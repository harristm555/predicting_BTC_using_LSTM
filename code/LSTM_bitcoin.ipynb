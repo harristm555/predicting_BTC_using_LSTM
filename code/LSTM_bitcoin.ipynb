{
  "nbformat": 4,
  "nbformat_minor": 0,
  "metadata": {
    "colab": {
      "name": "LSTM_bitcoin.ipynb",
      "provenance": [],
      "collapsed_sections": []
    },
    "kernelspec": {
      "name": "python3",
      "display_name": "Python 3"
    },
    "language_info": {
      "name": "python"
    }
  },
  "cells": [
    {
      "cell_type": "code",
      "execution_count": 1,
      "metadata": {
        "colab": {
          "base_uri": "https://localhost:8080/"
        },
        "id": "N46lzfCv8SbY",
        "outputId": "3fb967a3-8afe-4466-a69a-b997e0b9bb2f"
      },
      "outputs": [
        {
          "output_type": "stream",
          "name": "stdout",
          "text": [
            "Looking in indexes: https://pypi.org/simple, https://us-python.pkg.dev/colab-wheels/public/simple/\n",
            "Collecting yfinance\n",
            "  Downloading yfinance-0.1.74-py2.py3-none-any.whl (27 kB)\n",
            "Requirement already satisfied: pandas>=0.24.0 in /usr/local/lib/python3.7/dist-packages (from yfinance) (1.3.5)\n",
            "Requirement already satisfied: numpy>=1.15 in /usr/local/lib/python3.7/dist-packages (from yfinance) (1.21.6)\n",
            "Requirement already satisfied: lxml>=4.5.1 in /usr/local/lib/python3.7/dist-packages (from yfinance) (4.9.1)\n",
            "Collecting requests>=2.26\n",
            "  Downloading requests-2.28.1-py3-none-any.whl (62 kB)\n",
            "\u001b[K     |████████████████████████████████| 62 kB 1.5 MB/s \n",
            "\u001b[?25hRequirement already satisfied: multitasking>=0.0.7 in /usr/local/lib/python3.7/dist-packages (from yfinance) (0.0.11)\n",
            "Requirement already satisfied: pytz>=2017.3 in /usr/local/lib/python3.7/dist-packages (from pandas>=0.24.0->yfinance) (2022.1)\n",
            "Requirement already satisfied: python-dateutil>=2.7.3 in /usr/local/lib/python3.7/dist-packages (from pandas>=0.24.0->yfinance) (2.8.2)\n",
            "Requirement already satisfied: six>=1.5 in /usr/local/lib/python3.7/dist-packages (from python-dateutil>=2.7.3->pandas>=0.24.0->yfinance) (1.15.0)\n",
            "Requirement already satisfied: urllib3<1.27,>=1.21.1 in /usr/local/lib/python3.7/dist-packages (from requests>=2.26->yfinance) (1.24.3)\n",
            "Requirement already satisfied: certifi>=2017.4.17 in /usr/local/lib/python3.7/dist-packages (from requests>=2.26->yfinance) (2022.6.15)\n",
            "Requirement already satisfied: charset-normalizer<3,>=2 in /usr/local/lib/python3.7/dist-packages (from requests>=2.26->yfinance) (2.1.0)\n",
            "Requirement already satisfied: idna<4,>=2.5 in /usr/local/lib/python3.7/dist-packages (from requests>=2.26->yfinance) (2.10)\n",
            "Installing collected packages: requests, yfinance\n",
            "  Attempting uninstall: requests\n",
            "    Found existing installation: requests 2.23.0\n",
            "    Uninstalling requests-2.23.0:\n",
            "      Successfully uninstalled requests-2.23.0\n",
            "Successfully installed requests-2.28.1 yfinance-0.1.74\n"
          ]
        }
      ],
      "source": [
        "!pip install yfinance\n",
        "\n",
        "\n",
        "#Refrence https://www.youtube.com/watch?v=dKBKNOn3gCE    (decisionforest)"
      ]
    },
    {
      "cell_type": "code",
      "source": [
        "from IPython.core.debugger import set_trace\n",
        "import pandas as pd\n",
        "import numpy as np\n",
        "import os\n",
        "import matplotlib.pyplot as plt\n",
        "import time\n",
        "import  yfinance as yf\n",
        "import warnings\n",
        "\n",
        "from sklearn.preprocessing import MinMaxScaler\n",
        "from keras.models  import Sequential\n",
        "from keras.layers import LSTM, Dense\n",
        "from sklearn.metrics import  mean_squared_error\n",
        "import math \n",
        "warnings.filterwarnings(\"ignore\")\n",
        "plt.style.use(style = 'seaborn')\n",
        "\n",
        "%matplotlib inline"
      ],
      "metadata": {
        "id": "0expY8u3_1E0"
      },
      "execution_count": 2,
      "outputs": []
    },
    {
      "cell_type": "code",
      "source": [
        "bitcoin_ticker = yf.Ticker(\"BTC-USD\")\n",
        "bitcoin_price = bitcoin_ticker.history(\n",
        "    start='2021-04-10',\n",
        "    end='2022-08-15',\n",
        "    interval='60m'\n",
        ").reset_index()\n"
      ],
      "metadata": {
        "id": "CDrKMniq-N5x"
      },
      "execution_count": 3,
      "outputs": []
    },
    {
      "cell_type": "code",
      "source": [
        "df = bitcoin_price"
      ],
      "metadata": {
        "id": "vPve1NXg_ZLN"
      },
      "execution_count": 4,
      "outputs": []
    },
    {
      "cell_type": "code",
      "source": [
        "bitcoin_price"
      ],
      "metadata": {
        "colab": {
          "base_uri": "https://localhost:8080/",
          "height": 423
        },
        "id": "B08U6OaVDPpi",
        "outputId": "2986da3e-dacd-48bc-dbc1-e52df150a201"
      },
      "execution_count": 5,
      "outputs": [
        {
          "output_type": "execute_result",
          "data": {
            "text/plain": [
              "                       Datetime          Open          High           Low  \\\n",
              "0     2021-04-10 00:00:00+00:00  58253.777344  58400.804688  58038.707031   \n",
              "1     2021-04-10 01:00:00+00:00  58226.609375  58536.257812  58226.609375   \n",
              "2     2021-04-10 02:00:00+00:00  58532.867188  58703.160156  58460.089844   \n",
              "3     2021-04-10 03:00:00+00:00  58806.136719  59208.968750  58806.136719   \n",
              "4     2021-04-10 04:00:00+00:00  59231.078125  60922.390625  59231.078125   \n",
              "...                         ...           ...           ...           ...   \n",
              "11586 2022-08-14 19:00:00+00:00  24294.511719  24322.357422  24275.544922   \n",
              "11587 2022-08-14 20:00:00+00:00  24303.839844  24338.433594  24276.894531   \n",
              "11588 2022-08-14 21:00:00+00:00  24325.814453  24413.955078  24302.974609   \n",
              "11589 2022-08-14 22:00:00+00:00  24340.982422  24352.015625  24231.068359   \n",
              "11590 2022-08-14 23:00:00+00:00  24317.736328  24335.523438  24279.125000   \n",
              "\n",
              "              Close      Volume  Dividends  Stock Splits  \n",
              "0      58212.460938           0          0             0  \n",
              "1      58514.304688    67317760          0             0  \n",
              "2      58703.160156   366772224          0             0  \n",
              "3      59202.472656  1838604288          0             0  \n",
              "4      60922.390625  5365641216          0             0  \n",
              "...             ...         ...        ...           ...  \n",
              "11586  24304.109375           0          0             0  \n",
              "11587  24324.968750           0          0             0  \n",
              "11588  24341.371094   149147648          0             0  \n",
              "11589  24337.230469   300048384          0             0  \n",
              "11590  24327.566406   107726848          0             0  \n",
              "\n",
              "[11591 rows x 8 columns]"
            ],
            "text/html": [
              "\n",
              "  <div id=\"df-a6c26f40-4a15-4997-9ea1-b59cb4a2132c\">\n",
              "    <div class=\"colab-df-container\">\n",
              "      <div>\n",
              "<style scoped>\n",
              "    .dataframe tbody tr th:only-of-type {\n",
              "        vertical-align: middle;\n",
              "    }\n",
              "\n",
              "    .dataframe tbody tr th {\n",
              "        vertical-align: top;\n",
              "    }\n",
              "\n",
              "    .dataframe thead th {\n",
              "        text-align: right;\n",
              "    }\n",
              "</style>\n",
              "<table border=\"1\" class=\"dataframe\">\n",
              "  <thead>\n",
              "    <tr style=\"text-align: right;\">\n",
              "      <th></th>\n",
              "      <th>Datetime</th>\n",
              "      <th>Open</th>\n",
              "      <th>High</th>\n",
              "      <th>Low</th>\n",
              "      <th>Close</th>\n",
              "      <th>Volume</th>\n",
              "      <th>Dividends</th>\n",
              "      <th>Stock Splits</th>\n",
              "    </tr>\n",
              "  </thead>\n",
              "  <tbody>\n",
              "    <tr>\n",
              "      <th>0</th>\n",
              "      <td>2021-04-10 00:00:00+00:00</td>\n",
              "      <td>58253.777344</td>\n",
              "      <td>58400.804688</td>\n",
              "      <td>58038.707031</td>\n",
              "      <td>58212.460938</td>\n",
              "      <td>0</td>\n",
              "      <td>0</td>\n",
              "      <td>0</td>\n",
              "    </tr>\n",
              "    <tr>\n",
              "      <th>1</th>\n",
              "      <td>2021-04-10 01:00:00+00:00</td>\n",
              "      <td>58226.609375</td>\n",
              "      <td>58536.257812</td>\n",
              "      <td>58226.609375</td>\n",
              "      <td>58514.304688</td>\n",
              "      <td>67317760</td>\n",
              "      <td>0</td>\n",
              "      <td>0</td>\n",
              "    </tr>\n",
              "    <tr>\n",
              "      <th>2</th>\n",
              "      <td>2021-04-10 02:00:00+00:00</td>\n",
              "      <td>58532.867188</td>\n",
              "      <td>58703.160156</td>\n",
              "      <td>58460.089844</td>\n",
              "      <td>58703.160156</td>\n",
              "      <td>366772224</td>\n",
              "      <td>0</td>\n",
              "      <td>0</td>\n",
              "    </tr>\n",
              "    <tr>\n",
              "      <th>3</th>\n",
              "      <td>2021-04-10 03:00:00+00:00</td>\n",
              "      <td>58806.136719</td>\n",
              "      <td>59208.968750</td>\n",
              "      <td>58806.136719</td>\n",
              "      <td>59202.472656</td>\n",
              "      <td>1838604288</td>\n",
              "      <td>0</td>\n",
              "      <td>0</td>\n",
              "    </tr>\n",
              "    <tr>\n",
              "      <th>4</th>\n",
              "      <td>2021-04-10 04:00:00+00:00</td>\n",
              "      <td>59231.078125</td>\n",
              "      <td>60922.390625</td>\n",
              "      <td>59231.078125</td>\n",
              "      <td>60922.390625</td>\n",
              "      <td>5365641216</td>\n",
              "      <td>0</td>\n",
              "      <td>0</td>\n",
              "    </tr>\n",
              "    <tr>\n",
              "      <th>...</th>\n",
              "      <td>...</td>\n",
              "      <td>...</td>\n",
              "      <td>...</td>\n",
              "      <td>...</td>\n",
              "      <td>...</td>\n",
              "      <td>...</td>\n",
              "      <td>...</td>\n",
              "      <td>...</td>\n",
              "    </tr>\n",
              "    <tr>\n",
              "      <th>11586</th>\n",
              "      <td>2022-08-14 19:00:00+00:00</td>\n",
              "      <td>24294.511719</td>\n",
              "      <td>24322.357422</td>\n",
              "      <td>24275.544922</td>\n",
              "      <td>24304.109375</td>\n",
              "      <td>0</td>\n",
              "      <td>0</td>\n",
              "      <td>0</td>\n",
              "    </tr>\n",
              "    <tr>\n",
              "      <th>11587</th>\n",
              "      <td>2022-08-14 20:00:00+00:00</td>\n",
              "      <td>24303.839844</td>\n",
              "      <td>24338.433594</td>\n",
              "      <td>24276.894531</td>\n",
              "      <td>24324.968750</td>\n",
              "      <td>0</td>\n",
              "      <td>0</td>\n",
              "      <td>0</td>\n",
              "    </tr>\n",
              "    <tr>\n",
              "      <th>11588</th>\n",
              "      <td>2022-08-14 21:00:00+00:00</td>\n",
              "      <td>24325.814453</td>\n",
              "      <td>24413.955078</td>\n",
              "      <td>24302.974609</td>\n",
              "      <td>24341.371094</td>\n",
              "      <td>149147648</td>\n",
              "      <td>0</td>\n",
              "      <td>0</td>\n",
              "    </tr>\n",
              "    <tr>\n",
              "      <th>11589</th>\n",
              "      <td>2022-08-14 22:00:00+00:00</td>\n",
              "      <td>24340.982422</td>\n",
              "      <td>24352.015625</td>\n",
              "      <td>24231.068359</td>\n",
              "      <td>24337.230469</td>\n",
              "      <td>300048384</td>\n",
              "      <td>0</td>\n",
              "      <td>0</td>\n",
              "    </tr>\n",
              "    <tr>\n",
              "      <th>11590</th>\n",
              "      <td>2022-08-14 23:00:00+00:00</td>\n",
              "      <td>24317.736328</td>\n",
              "      <td>24335.523438</td>\n",
              "      <td>24279.125000</td>\n",
              "      <td>24327.566406</td>\n",
              "      <td>107726848</td>\n",
              "      <td>0</td>\n",
              "      <td>0</td>\n",
              "    </tr>\n",
              "  </tbody>\n",
              "</table>\n",
              "<p>11591 rows × 8 columns</p>\n",
              "</div>\n",
              "      <button class=\"colab-df-convert\" onclick=\"convertToInteractive('df-a6c26f40-4a15-4997-9ea1-b59cb4a2132c')\"\n",
              "              title=\"Convert this dataframe to an interactive table.\"\n",
              "              style=\"display:none;\">\n",
              "        \n",
              "  <svg xmlns=\"http://www.w3.org/2000/svg\" height=\"24px\"viewBox=\"0 0 24 24\"\n",
              "       width=\"24px\">\n",
              "    <path d=\"M0 0h24v24H0V0z\" fill=\"none\"/>\n",
              "    <path d=\"M18.56 5.44l.94 2.06.94-2.06 2.06-.94-2.06-.94-.94-2.06-.94 2.06-2.06.94zm-11 1L8.5 8.5l.94-2.06 2.06-.94-2.06-.94L8.5 2.5l-.94 2.06-2.06.94zm10 10l.94 2.06.94-2.06 2.06-.94-2.06-.94-.94-2.06-.94 2.06-2.06.94z\"/><path d=\"M17.41 7.96l-1.37-1.37c-.4-.4-.92-.59-1.43-.59-.52 0-1.04.2-1.43.59L10.3 9.45l-7.72 7.72c-.78.78-.78 2.05 0 2.83L4 21.41c.39.39.9.59 1.41.59.51 0 1.02-.2 1.41-.59l7.78-7.78 2.81-2.81c.8-.78.8-2.07 0-2.86zM5.41 20L4 18.59l7.72-7.72 1.47 1.35L5.41 20z\"/>\n",
              "  </svg>\n",
              "      </button>\n",
              "      \n",
              "  <style>\n",
              "    .colab-df-container {\n",
              "      display:flex;\n",
              "      flex-wrap:wrap;\n",
              "      gap: 12px;\n",
              "    }\n",
              "\n",
              "    .colab-df-convert {\n",
              "      background-color: #E8F0FE;\n",
              "      border: none;\n",
              "      border-radius: 50%;\n",
              "      cursor: pointer;\n",
              "      display: none;\n",
              "      fill: #1967D2;\n",
              "      height: 32px;\n",
              "      padding: 0 0 0 0;\n",
              "      width: 32px;\n",
              "    }\n",
              "\n",
              "    .colab-df-convert:hover {\n",
              "      background-color: #E2EBFA;\n",
              "      box-shadow: 0px 1px 2px rgba(60, 64, 67, 0.3), 0px 1px 3px 1px rgba(60, 64, 67, 0.15);\n",
              "      fill: #174EA6;\n",
              "    }\n",
              "\n",
              "    [theme=dark] .colab-df-convert {\n",
              "      background-color: #3B4455;\n",
              "      fill: #D2E3FC;\n",
              "    }\n",
              "\n",
              "    [theme=dark] .colab-df-convert:hover {\n",
              "      background-color: #434B5C;\n",
              "      box-shadow: 0px 1px 3px 1px rgba(0, 0, 0, 0.15);\n",
              "      filter: drop-shadow(0px 1px 2px rgba(0, 0, 0, 0.3));\n",
              "      fill: #FFFFFF;\n",
              "    }\n",
              "  </style>\n",
              "\n",
              "      <script>\n",
              "        const buttonEl =\n",
              "          document.querySelector('#df-a6c26f40-4a15-4997-9ea1-b59cb4a2132c button.colab-df-convert');\n",
              "        buttonEl.style.display =\n",
              "          google.colab.kernel.accessAllowed ? 'block' : 'none';\n",
              "\n",
              "        async function convertToInteractive(key) {\n",
              "          const element = document.querySelector('#df-a6c26f40-4a15-4997-9ea1-b59cb4a2132c');\n",
              "          const dataTable =\n",
              "            await google.colab.kernel.invokeFunction('convertToInteractive',\n",
              "                                                     [key], {});\n",
              "          if (!dataTable) return;\n",
              "\n",
              "          const docLinkHtml = 'Like what you see? Visit the ' +\n",
              "            '<a target=\"_blank\" href=https://colab.research.google.com/notebooks/data_table.ipynb>data table notebook</a>'\n",
              "            + ' to learn more about interactive tables.';\n",
              "          element.innerHTML = '';\n",
              "          dataTable['output_type'] = 'display_data';\n",
              "          await google.colab.output.renderOutput(dataTable, element);\n",
              "          const docLink = document.createElement('div');\n",
              "          docLink.innerHTML = docLinkHtml;\n",
              "          element.appendChild(docLink);\n",
              "        }\n",
              "      </script>\n",
              "    </div>\n",
              "  </div>\n",
              "  "
            ]
          },
          "metadata": {},
          "execution_count": 5
        }
      ]
    },
    {
      "cell_type": "code",
      "source": [
        "df.set_index('Datetime', drop = True, inplace = True)\n",
        "df = df[['Close']]\n",
        "df.describe()"
      ],
      "metadata": {
        "colab": {
          "base_uri": "https://localhost:8080/",
          "height": 300
        },
        "id": "2riOmqPI_6v8",
        "outputId": "1ee942d0-bb0e-4eae-ebea-fcc9374419b7"
      },
      "execution_count": 6,
      "outputs": [
        {
          "output_type": "execute_result",
          "data": {
            "text/plain": [
              "              Close\n",
              "count  11591.000000\n",
              "mean   41378.997773\n",
              "std    11671.502296\n",
              "min    17744.896484\n",
              "25%    33750.554688\n",
              "50%    41441.398438\n",
              "75%    48473.341797\n",
              "max    68622.632812"
            ],
            "text/html": [
              "\n",
              "  <div id=\"df-13b3f1b4-04cd-4cba-95b8-87f1cf51d374\">\n",
              "    <div class=\"colab-df-container\">\n",
              "      <div>\n",
              "<style scoped>\n",
              "    .dataframe tbody tr th:only-of-type {\n",
              "        vertical-align: middle;\n",
              "    }\n",
              "\n",
              "    .dataframe tbody tr th {\n",
              "        vertical-align: top;\n",
              "    }\n",
              "\n",
              "    .dataframe thead th {\n",
              "        text-align: right;\n",
              "    }\n",
              "</style>\n",
              "<table border=\"1\" class=\"dataframe\">\n",
              "  <thead>\n",
              "    <tr style=\"text-align: right;\">\n",
              "      <th></th>\n",
              "      <th>Close</th>\n",
              "    </tr>\n",
              "  </thead>\n",
              "  <tbody>\n",
              "    <tr>\n",
              "      <th>count</th>\n",
              "      <td>11591.000000</td>\n",
              "    </tr>\n",
              "    <tr>\n",
              "      <th>mean</th>\n",
              "      <td>41378.997773</td>\n",
              "    </tr>\n",
              "    <tr>\n",
              "      <th>std</th>\n",
              "      <td>11671.502296</td>\n",
              "    </tr>\n",
              "    <tr>\n",
              "      <th>min</th>\n",
              "      <td>17744.896484</td>\n",
              "    </tr>\n",
              "    <tr>\n",
              "      <th>25%</th>\n",
              "      <td>33750.554688</td>\n",
              "    </tr>\n",
              "    <tr>\n",
              "      <th>50%</th>\n",
              "      <td>41441.398438</td>\n",
              "    </tr>\n",
              "    <tr>\n",
              "      <th>75%</th>\n",
              "      <td>48473.341797</td>\n",
              "    </tr>\n",
              "    <tr>\n",
              "      <th>max</th>\n",
              "      <td>68622.632812</td>\n",
              "    </tr>\n",
              "  </tbody>\n",
              "</table>\n",
              "</div>\n",
              "      <button class=\"colab-df-convert\" onclick=\"convertToInteractive('df-13b3f1b4-04cd-4cba-95b8-87f1cf51d374')\"\n",
              "              title=\"Convert this dataframe to an interactive table.\"\n",
              "              style=\"display:none;\">\n",
              "        \n",
              "  <svg xmlns=\"http://www.w3.org/2000/svg\" height=\"24px\"viewBox=\"0 0 24 24\"\n",
              "       width=\"24px\">\n",
              "    <path d=\"M0 0h24v24H0V0z\" fill=\"none\"/>\n",
              "    <path d=\"M18.56 5.44l.94 2.06.94-2.06 2.06-.94-2.06-.94-.94-2.06-.94 2.06-2.06.94zm-11 1L8.5 8.5l.94-2.06 2.06-.94-2.06-.94L8.5 2.5l-.94 2.06-2.06.94zm10 10l.94 2.06.94-2.06 2.06-.94-2.06-.94-.94-2.06-.94 2.06-2.06.94z\"/><path d=\"M17.41 7.96l-1.37-1.37c-.4-.4-.92-.59-1.43-.59-.52 0-1.04.2-1.43.59L10.3 9.45l-7.72 7.72c-.78.78-.78 2.05 0 2.83L4 21.41c.39.39.9.59 1.41.59.51 0 1.02-.2 1.41-.59l7.78-7.78 2.81-2.81c.8-.78.8-2.07 0-2.86zM5.41 20L4 18.59l7.72-7.72 1.47 1.35L5.41 20z\"/>\n",
              "  </svg>\n",
              "      </button>\n",
              "      \n",
              "  <style>\n",
              "    .colab-df-container {\n",
              "      display:flex;\n",
              "      flex-wrap:wrap;\n",
              "      gap: 12px;\n",
              "    }\n",
              "\n",
              "    .colab-df-convert {\n",
              "      background-color: #E8F0FE;\n",
              "      border: none;\n",
              "      border-radius: 50%;\n",
              "      cursor: pointer;\n",
              "      display: none;\n",
              "      fill: #1967D2;\n",
              "      height: 32px;\n",
              "      padding: 0 0 0 0;\n",
              "      width: 32px;\n",
              "    }\n",
              "\n",
              "    .colab-df-convert:hover {\n",
              "      background-color: #E2EBFA;\n",
              "      box-shadow: 0px 1px 2px rgba(60, 64, 67, 0.3), 0px 1px 3px 1px rgba(60, 64, 67, 0.15);\n",
              "      fill: #174EA6;\n",
              "    }\n",
              "\n",
              "    [theme=dark] .colab-df-convert {\n",
              "      background-color: #3B4455;\n",
              "      fill: #D2E3FC;\n",
              "    }\n",
              "\n",
              "    [theme=dark] .colab-df-convert:hover {\n",
              "      background-color: #434B5C;\n",
              "      box-shadow: 0px 1px 3px 1px rgba(0, 0, 0, 0.15);\n",
              "      filter: drop-shadow(0px 1px 2px rgba(0, 0, 0, 0.3));\n",
              "      fill: #FFFFFF;\n",
              "    }\n",
              "  </style>\n",
              "\n",
              "      <script>\n",
              "        const buttonEl =\n",
              "          document.querySelector('#df-13b3f1b4-04cd-4cba-95b8-87f1cf51d374 button.colab-df-convert');\n",
              "        buttonEl.style.display =\n",
              "          google.colab.kernel.accessAllowed ? 'block' : 'none';\n",
              "\n",
              "        async function convertToInteractive(key) {\n",
              "          const element = document.querySelector('#df-13b3f1b4-04cd-4cba-95b8-87f1cf51d374');\n",
              "          const dataTable =\n",
              "            await google.colab.kernel.invokeFunction('convertToInteractive',\n",
              "                                                     [key], {});\n",
              "          if (!dataTable) return;\n",
              "\n",
              "          const docLinkHtml = 'Like what you see? Visit the ' +\n",
              "            '<a target=\"_blank\" href=https://colab.research.google.com/notebooks/data_table.ipynb>data table notebook</a>'\n",
              "            + ' to learn more about interactive tables.';\n",
              "          element.innerHTML = '';\n",
              "          dataTable['output_type'] = 'display_data';\n",
              "          await google.colab.output.renderOutput(dataTable, element);\n",
              "          const docLink = document.createElement('div');\n",
              "          docLink.innerHTML = docLinkHtml;\n",
              "          element.appendChild(docLink);\n",
              "        }\n",
              "      </script>\n",
              "    </div>\n",
              "  </div>\n",
              "  "
            ]
          },
          "metadata": {},
          "execution_count": 6
        }
      ]
    },
    {
      "cell_type": "code",
      "source": [
        "plt.figure(1,figsize = (16,6)) \n",
        "plt.plot(df.Close)"
      ],
      "metadata": {
        "colab": {
          "base_uri": "https://localhost:8080/",
          "height": 392
        },
        "id": "kIx5akLdDYrs",
        "outputId": "6f9c88cd-fcf4-448d-cb30-c09d1ced7d90"
      },
      "execution_count": 7,
      "outputs": [
        {
          "output_type": "execute_result",
          "data": {
            "text/plain": [
              "[<matplotlib.lines.Line2D at 0x7f9cc7748250>]"
            ]
          },
          "metadata": {},
          "execution_count": 7
        },
        {
          "output_type": "display_data",
          "data": {
            "text/plain": [
              "<Figure size 1152x432 with 1 Axes>"
            ],
            "image/png": "[encoded data removed]"
          },
          "metadata": {
            "needs_background": "light"
          }
        }
      ]
    },
    {
      "cell_type": "code",
      "source": [
        "#calculating the returns\n",
        "\n",
        "df['returns'] = df.Close.pct_change()\n",
        "\n",
        "\n",
        "#calculating log returns\n",
        "#log returns helps to convert values more nearer to normally ditributed curve\n",
        "\n",
        "df['log_returns']= np.log(1+df['returns'])"
      ],
      "metadata": {
        "id": "2B2eubsFFH3R"
      },
      "execution_count": 8,
      "outputs": []
    },
    {
      "cell_type": "code",
      "source": [
        "plt.figure(1,figsize = (25,6)) \n",
        "plt.plot(df.log_returns)"
      ],
      "metadata": {
        "colab": {
          "base_uri": "https://localhost:8080/",
          "height": 380
        },
        "id": "UtmaIAy8EtKf",
        "outputId": "b2e4f13c-9101-4724-a268-c73ba4683f39"
      },
      "execution_count": 9,
      "outputs": [
        {
          "output_type": "execute_result",
          "data": {
            "text/plain": [
              "[<matplotlib.lines.Line2D at 0x7f9cc77c45d0>]"
            ]
          },
          "metadata": {},
          "execution_count": 9
        },
        {
          "output_type": "display_data",
          "data": {
            "text/plain": [
              "<Figure size 1800x432 with 1 Axes>"
            ],
            "image/png": "[encoded data removed]"
          },
          "metadata": {
            "needs_background": "light"
          }
        }
      ]
    },
    {
      "cell_type": "code",
      "source": [
        "df.dropna(inplace = True)\n",
        "X = df[['Close','log_returns']].values\n",
        "\n",
        "#using minmax scaler from sklearn to scale the data without changinf distribution\n",
        "#MinMax Scaler shrinks the data within the given range, usually of 0 to 1. It transforms data by scaling features to a given range. \n",
        "#It scales the values to a specific value range without changing the shape of the original distribution.\n",
        "scaler = MinMaxScaler(feature_range = (0,1)).fit(X)\n",
        "X_scaled = scaler.transform(X)"
      ],
      "metadata": {
        "id": "KkZk74-_G3j_"
      },
      "execution_count": 10,
      "outputs": []
    },
    {
      "cell_type": "code",
      "source": [
        "X_scaled[:5]"
      ],
      "metadata": {
        "colab": {
          "base_uri": "https://localhost:8080/"
        },
        "id": "G_oMayVB3CCB",
        "outputId": "2b289090-a20c-4146-f4d6-3fb57b599a27"
      },
      "execution_count": 11,
      "outputs": [
        {
          "output_type": "execute_result",
          "data": {
            "text/plain": [
              "array([[0.80132119, 0.71940135],\n",
              "       [0.80503314, 0.70791411],\n",
              "       [0.81484711, 0.73883413],\n",
              "       [0.84865203, 0.85767051],\n",
              "       [0.84874462, 0.68938256]])"
            ]
          },
          "metadata": {},
          "execution_count": 11
        }
      ]
    },
    {
      "cell_type": "code",
      "source": [
        "y = [x[0] for x in X_scaled]"
      ],
      "metadata": {
        "id": "mcApDHY1Kqps"
      },
      "execution_count": 12,
      "outputs": []
    },
    {
      "cell_type": "code",
      "source": [
        "split = int(len(X_scaled)* 0.8)\n",
        "print(split)"
      ],
      "metadata": {
        "colab": {
          "base_uri": "https://localhost:8080/"
        },
        "id": "Ok1ZBDhsLP50",
        "outputId": "aa5a0b09-b2dc-4168-9970-6b47a561ead0"
      },
      "execution_count": 13,
      "outputs": [
        {
          "output_type": "stream",
          "name": "stdout",
          "text": [
            "9272\n"
          ]
        }
      ]
    },
    {
      "cell_type": "code",
      "source": [
        "#splitting the training set and test set\n",
        "X_train = X_scaled[:split]\n",
        "X_test = X_scaled[split:len(X_scaled)]\n",
        "y_train = y[:split]\n",
        "y_test = y[split:len(y)]"
      ],
      "metadata": {
        "id": "sdDop0vSMxf0"
      },
      "execution_count": 14,
      "outputs": []
    },
    {
      "cell_type": "code",
      "source": [
        "assert len(X_train)== len(y_train)\n",
        "assert len(X_test)== len(y_test)"
      ],
      "metadata": {
        "id": "Oyx5PpHjhDJ9"
      },
      "execution_count": 15,
      "outputs": []
    },
    {
      "cell_type": "code",
      "source": [
        "#Lebelling \n",
        "#we are trying to predict the stock price of T+1 day related to time\n",
        "#as we are going to use an LSTM architecture, we know that it has memomry  and that it is  maintained by setting the time step, basically how many steps  in the past we want the LSTM to use.\n",
        "\n",
        "#the time step refer to how many  steps  in time we want  the backpropogation  algorithm  to use when  calculating  gradients  for weight updates during training.\n",
        "#So we can use a method to create both the timestamp and the output variable, the T+1.\n",
        "\n",
        "\n",
        "\n",
        "\n",
        "\n",
        "n = 3\n",
        "Xtrain = []\n",
        "ytrain = []\n",
        "Xtest = []\n",
        "ytest =[]\n",
        "\n",
        "for i in range(n, len(X_train)):\n",
        "  Xtrain.append(X_train[i- n:i,: X_train.shape[1]])\n",
        "  ytrain.append(y_train[i]) #predict next record\n",
        "\n",
        "for i in range(n,len(X_test)):\n",
        "  Xtest.append(X_test[i-n:i,:X_test.shape[1]])\n",
        "  ytest.append(y_test[i]) # predict the next record"
      ],
      "metadata": {
        "id": "PrTh2hZrhTpa"
      },
      "execution_count": 16,
      "outputs": []
    },
    {
      "cell_type": "code",
      "source": [
        "Xtrain[0]"
      ],
      "metadata": {
        "colab": {
          "base_uri": "https://localhost:8080/"
        },
        "id": "qImMe94zkU2U",
        "outputId": "7652bc7e-cffd-4e81-cb93-64995a42bb2f"
      },
      "execution_count": 17,
      "outputs": [
        {
          "output_type": "execute_result",
          "data": {
            "text/plain": [
              "array([[0.80132119, 0.71940135],\n",
              "       [0.80503314, 0.70791411],\n",
              "       [0.81484711, 0.73883413]])"
            ]
          },
          "metadata": {},
          "execution_count": 17
        }
      ]
    },
    {
      "cell_type": "code",
      "source": [
        "ytrain[0]"
      ],
      "metadata": {
        "colab": {
          "base_uri": "https://localhost:8080/"
        },
        "id": "zL9sAte_kv_O",
        "outputId": "9c2d999f-a7ce-4f63-e1d0-8163a939f59a"
      },
      "execution_count": 18,
      "outputs": [
        {
          "output_type": "execute_result",
          "data": {
            "text/plain": [
              "0.8486520285053774"
            ]
          },
          "metadata": {},
          "execution_count": 18
        }
      ]
    },
    {
      "cell_type": "code",
      "source": [
        "val = np.array(ytrain[0])\n",
        "val = np.c_[val, np.zeros(val.shape)]"
      ],
      "metadata": {
        "id": "zv5mA06BlN6J"
      },
      "execution_count": 19,
      "outputs": []
    },
    {
      "cell_type": "code",
      "source": [
        "scaler.inverse_transform(val)"
      ],
      "metadata": {
        "colab": {
          "base_uri": "https://localhost:8080/"
        },
        "id": "ZC8L_PhZllAk",
        "outputId": "57034a2b-ebc4-44e0-e208-22e2610101f1"
      },
      "execution_count": 20,
      "outputs": [
        {
          "output_type": "execute_result",
          "data": {
            "text/plain": [
              "array([[ 6.09223906e+04, -1.16917745e-01]])"
            ]
          },
          "metadata": {},
          "execution_count": 20
        }
      ]
    },
    {
      "cell_type": "code",
      "source": [
        "#in an LSTM network the input for each LSTM layer needs to contain  the following information\n",
        "#the number of obeservations\n",
        "#the time steps\n",
        "#the features\n",
        "#therefore we need to add a temporaral dimension compared to a classical network\n",
        "\n",
        "#(number of observations, number of steps, number of features per step)\n",
        "\n",
        "\n",
        "Xtrain, ytrain = (np.array(Xtrain),np.array(ytrain))\n",
        "Xtrain = np.reshape(Xtrain,(Xtrain.shape[0],Xtrain.shape[1],Xtrain.shape[2]))\n",
        "\n",
        "Xtest, ytest = (np.array(Xtest),np.array(ytest))\n",
        "Xtest = np.reshape(Xtest,(Xtest.shape[0],Xtest.shape[1],Xtest.shape[2]))"
      ],
      "metadata": {
        "id": "qUWz9Makl3Oc"
      },
      "execution_count": 21,
      "outputs": []
    },
    {
      "cell_type": "code",
      "source": [
        "print(Xtrain.shape)\n",
        "print(ytrain.shape)\n",
        "print(Xtest.shape)\n",
        "print(ytest.shape)"
      ],
      "metadata": {
        "colab": {
          "base_uri": "https://localhost:8080/"
        },
        "id": "UKLw8BsUzhW5",
        "outputId": "b889d2ee-29ce-4855-915b-054f7d8074ac"
      },
      "execution_count": 22,
      "outputs": [
        {
          "output_type": "stream",
          "name": "stdout",
          "text": [
            "(9269, 3, 2)\n",
            "(9269,)\n",
            "(2315, 3, 2)\n",
            "(2315,)\n"
          ]
        }
      ]
    },
    {
      "cell_type": "code",
      "source": [
        "#LSTM Model\n",
        "\n",
        "\n",
        "model = Sequential()\n",
        "model.add(LSTM(4,input_shape = (Xtrain.shape[1],Xtrain.shape[2])))\n",
        "model.add(Dense(1)) \n",
        "model.compile(loss= 'mean_squared_error',optimizer = 'adam')\n",
        "model.fit( \n",
        "    Xtrain, ytrain, epochs = 100, validation_data = (Xtest,ytest),batch_size = 16, verbose = 1\n",
        ")"
      ],
      "metadata": {
        "colab": {
          "base_uri": "https://localhost:8080/"
        },
        "id": "BrefR_MT3gZV",
        "outputId": "2bd3192f-c7e3-4855-cde5-39d61c33c118"
      },
      "execution_count": 23,
      "outputs": [
        {
          "output_type": "stream",
          "name": "stdout",
          "text": [
            "Epoch 1/100\n",
            "580/580 [==============================] - 5s 4ms/step - loss: 0.0718 - val_loss: 0.1135\n",
            "Epoch 2/100\n",
            "580/580 [==============================] - 2s 4ms/step - loss: 0.0108 - val_loss: 0.0178\n",
            "Epoch 3/100\n",
            "580/580 [==============================] - 3s 5ms/step - loss: 5.9964e-04 - val_loss: 0.0022\n",
            "Epoch 4/100\n",
            "580/580 [==============================] - 3s 5ms/step - loss: 9.0576e-05 - val_loss: 0.0022\n",
            "Epoch 5/100\n",
            "580/580 [==============================] - 3s 5ms/step - loss: 8.5653e-05 - val_loss: 0.0025\n",
            "Epoch 6/100\n",
            "580/580 [==============================] - 3s 5ms/step - loss: 8.2327e-05 - val_loss: 0.0027\n",
            "Epoch 7/100\n",
            "580/580 [==============================] - 3s 5ms/step - loss: 7.9378e-05 - val_loss: 0.0029\n",
            "Epoch 8/100\n",
            "580/580 [==============================] - 4s 6ms/step - loss: 7.7855e-05 - val_loss: 0.0031\n",
            "Epoch 9/100\n",
            "580/580 [==============================] - 4s 6ms/step - loss: 7.6207e-05 - val_loss: 0.0031\n",
            "Epoch 10/100\n",
            "580/580 [==============================] - 3s 6ms/step - loss: 7.4998e-05 - val_loss: 0.0032\n",
            "Epoch 11/100\n",
            "580/580 [==============================] - 3s 5ms/step - loss: 7.4424e-05 - val_loss: 0.0029\n",
            "Epoch 12/100\n",
            "580/580 [==============================] - 2s 4ms/step - loss: 7.2806e-05 - val_loss: 0.0027\n",
            "Epoch 13/100\n",
            "580/580 [==============================] - 2s 3ms/step - loss: 7.1859e-05 - val_loss: 0.0028\n",
            "Epoch 14/100\n",
            "580/580 [==============================] - 2s 3ms/step - loss: 7.0111e-05 - val_loss: 0.0027\n",
            "Epoch 15/100\n",
            "580/580 [==============================] - 2s 3ms/step - loss: 6.8798e-05 - val_loss: 0.0025\n",
            "Epoch 16/100\n",
            "580/580 [==============================] - 2s 3ms/step - loss: 6.7600e-05 - val_loss: 0.0026\n",
            "Epoch 17/100\n",
            "580/580 [==============================] - 2s 3ms/step - loss: 6.5895e-05 - val_loss: 0.0024\n",
            "Epoch 18/100\n",
            "580/580 [==============================] - 2s 3ms/step - loss: 6.2729e-05 - val_loss: 0.0019\n",
            "Epoch 19/100\n",
            "580/580 [==============================] - 2s 3ms/step - loss: 6.3171e-05 - val_loss: 0.0020\n",
            "Epoch 20/100\n",
            "580/580 [==============================] - 2s 3ms/step - loss: 6.2699e-05 - val_loss: 0.0017\n",
            "Epoch 21/100\n",
            "580/580 [==============================] - 2s 3ms/step - loss: 6.0467e-05 - val_loss: 0.0017\n",
            "Epoch 22/100\n",
            "580/580 [==============================] - 2s 3ms/step - loss: 5.9638e-05 - val_loss: 0.0015\n",
            "Epoch 23/100\n",
            "580/580 [==============================] - 2s 3ms/step - loss: 5.9364e-05 - val_loss: 0.0015\n",
            "Epoch 24/100\n",
            "580/580 [==============================] - 2s 3ms/step - loss: 5.8700e-05 - val_loss: 0.0011\n",
            "Epoch 25/100\n",
            "580/580 [==============================] - 2s 3ms/step - loss: 5.8495e-05 - val_loss: 0.0012\n",
            "Epoch 26/100\n",
            "580/580 [==============================] - 2s 3ms/step - loss: 5.7726e-05 - val_loss: 8.0172e-04\n",
            "Epoch 27/100\n",
            "580/580 [==============================] - 2s 3ms/step - loss: 5.6862e-05 - val_loss: 7.5096e-04\n",
            "Epoch 28/100\n",
            "580/580 [==============================] - 2s 3ms/step - loss: 5.7090e-05 - val_loss: 7.7946e-04\n",
            "Epoch 29/100\n",
            "580/580 [==============================] - 2s 3ms/step - loss: 5.6040e-05 - val_loss: 8.2119e-04\n",
            "Epoch 30/100\n",
            "580/580 [==============================] - 2s 3ms/step - loss: 5.5624e-05 - val_loss: 8.4755e-04\n",
            "Epoch 31/100\n",
            "580/580 [==============================] - 2s 3ms/step - loss: 5.5479e-05 - val_loss: 7.4725e-04\n",
            "Epoch 32/100\n",
            "580/580 [==============================] - 2s 3ms/step - loss: 5.5167e-05 - val_loss: 7.7854e-04\n",
            "Epoch 33/100\n",
            "580/580 [==============================] - 2s 3ms/step - loss: 5.4502e-05 - val_loss: 6.2674e-04\n",
            "Epoch 34/100\n",
            "580/580 [==============================] - 2s 3ms/step - loss: 5.4120e-05 - val_loss: 7.1645e-04\n",
            "Epoch 35/100\n",
            "580/580 [==============================] - 2s 3ms/step - loss: 5.6154e-05 - val_loss: 4.5090e-04\n",
            "Epoch 36/100\n",
            "580/580 [==============================] - 2s 3ms/step - loss: 5.4880e-05 - val_loss: 5.5107e-04\n",
            "Epoch 37/100\n",
            "580/580 [==============================] - 2s 3ms/step - loss: 5.5565e-05 - val_loss: 6.0888e-04\n",
            "Epoch 38/100\n",
            "580/580 [==============================] - 2s 3ms/step - loss: 5.4047e-05 - val_loss: 4.0207e-04\n",
            "Epoch 39/100\n",
            "580/580 [==============================] - 2s 3ms/step - loss: 5.4290e-05 - val_loss: 3.9914e-04\n",
            "Epoch 40/100\n",
            "580/580 [==============================] - 2s 3ms/step - loss: 5.2743e-05 - val_loss: 3.7151e-04\n",
            "Epoch 41/100\n",
            "580/580 [==============================] - 2s 3ms/step - loss: 5.2808e-05 - val_loss: 4.6766e-04\n",
            "Epoch 42/100\n",
            "580/580 [==============================] - 2s 3ms/step - loss: 5.5596e-05 - val_loss: 5.5049e-04\n",
            "Epoch 43/100\n",
            "580/580 [==============================] - 2s 3ms/step - loss: 5.3841e-05 - val_loss: 4.2123e-04\n",
            "Epoch 44/100\n",
            "580/580 [==============================] - 2s 3ms/step - loss: 5.4644e-05 - val_loss: 3.6713e-04\n",
            "Epoch 45/100\n",
            "580/580 [==============================] - 2s 3ms/step - loss: 5.4204e-05 - val_loss: 3.7653e-04\n",
            "Epoch 46/100\n",
            "580/580 [==============================] - 2s 4ms/step - loss: 5.3917e-05 - val_loss: 3.9003e-04\n",
            "Epoch 47/100\n",
            "580/580 [==============================] - 2s 4ms/step - loss: 5.4704e-05 - val_loss: 3.9746e-04\n",
            "Epoch 48/100\n",
            "580/580 [==============================] - 2s 3ms/step - loss: 5.2831e-05 - val_loss: 4.2659e-04\n",
            "Epoch 49/100\n",
            "580/580 [==============================] - 2s 3ms/step - loss: 5.2957e-05 - val_loss: 3.1548e-04\n",
            "Epoch 50/100\n",
            "580/580 [==============================] - 2s 3ms/step - loss: 5.2685e-05 - val_loss: 2.7273e-04\n",
            "Epoch 51/100\n",
            "580/580 [==============================] - 2s 3ms/step - loss: 5.3827e-05 - val_loss: 3.1390e-04\n",
            "Epoch 52/100\n",
            "580/580 [==============================] - 2s 3ms/step - loss: 5.4015e-05 - val_loss: 3.4142e-04\n",
            "Epoch 53/100\n",
            "580/580 [==============================] - 2s 3ms/step - loss: 5.2537e-05 - val_loss: 3.8155e-04\n",
            "Epoch 54/100\n",
            "580/580 [==============================] - 2s 3ms/step - loss: 5.1684e-05 - val_loss: 2.3448e-04\n",
            "Epoch 55/100\n",
            "580/580 [==============================] - 2s 3ms/step - loss: 5.3665e-05 - val_loss: 2.3906e-04\n",
            "Epoch 56/100\n",
            "580/580 [==============================] - 2s 3ms/step - loss: 5.4462e-05 - val_loss: 2.8944e-04\n",
            "Epoch 57/100\n",
            "580/580 [==============================] - 2s 3ms/step - loss: 5.3174e-05 - val_loss: 1.7661e-04\n",
            "Epoch 58/100\n",
            "580/580 [==============================] - 2s 3ms/step - loss: 5.4145e-05 - val_loss: 2.2520e-04\n",
            "Epoch 59/100\n",
            "580/580 [==============================] - 2s 3ms/step - loss: 5.2796e-05 - val_loss: 2.0845e-04\n",
            "Epoch 60/100\n",
            "580/580 [==============================] - 2s 3ms/step - loss: 5.2547e-05 - val_loss: 2.2244e-04\n",
            "Epoch 61/100\n",
            "580/580 [==============================] - 2s 3ms/step - loss: 5.3187e-05 - val_loss: 2.6641e-04\n",
            "Epoch 62/100\n",
            "580/580 [==============================] - 2s 3ms/step - loss: 5.3260e-05 - val_loss: 2.0889e-04\n",
            "Epoch 63/100\n",
            "580/580 [==============================] - 2s 3ms/step - loss: 5.3716e-05 - val_loss: 2.2118e-04\n",
            "Epoch 64/100\n",
            "580/580 [==============================] - 2s 3ms/step - loss: 5.3758e-05 - val_loss: 2.4006e-04\n",
            "Epoch 65/100\n",
            "580/580 [==============================] - 2s 3ms/step - loss: 5.3039e-05 - val_loss: 1.9957e-04\n",
            "Epoch 66/100\n",
            "580/580 [==============================] - 2s 4ms/step - loss: 5.3668e-05 - val_loss: 1.7810e-04\n",
            "Epoch 67/100\n",
            "580/580 [==============================] - 2s 3ms/step - loss: 5.2865e-05 - val_loss: 1.6359e-04\n",
            "Epoch 68/100\n",
            "580/580 [==============================] - 2s 3ms/step - loss: 5.2353e-05 - val_loss: 1.8409e-04\n",
            "Epoch 69/100\n",
            "580/580 [==============================] - 2s 3ms/step - loss: 5.4044e-05 - val_loss: 1.5316e-04\n",
            "Epoch 70/100\n",
            "580/580 [==============================] - 2s 3ms/step - loss: 5.2670e-05 - val_loss: 1.5506e-04\n",
            "Epoch 71/100\n",
            "580/580 [==============================] - 2s 3ms/step - loss: 5.3667e-05 - val_loss: 1.4038e-04\n",
            "Epoch 72/100\n",
            "580/580 [==============================] - 2s 3ms/step - loss: 5.2028e-05 - val_loss: 1.9907e-04\n",
            "Epoch 73/100\n",
            "580/580 [==============================] - 2s 3ms/step - loss: 5.3084e-05 - val_loss: 1.2567e-04\n",
            "Epoch 74/100\n",
            "580/580 [==============================] - 2s 3ms/step - loss: 5.3272e-05 - val_loss: 2.0512e-04\n",
            "Epoch 75/100\n",
            "580/580 [==============================] - 2s 3ms/step - loss: 5.3328e-05 - val_loss: 8.9216e-05\n",
            "Epoch 76/100\n",
            "580/580 [==============================] - 2s 3ms/step - loss: 5.2738e-05 - val_loss: 1.5978e-04\n",
            "Epoch 77/100\n",
            "580/580 [==============================] - 2s 3ms/step - loss: 5.2170e-05 - val_loss: 1.8246e-04\n",
            "Epoch 78/100\n",
            "580/580 [==============================] - 2s 3ms/step - loss: 5.4038e-05 - val_loss: 1.1523e-04\n",
            "Epoch 79/100\n",
            "580/580 [==============================] - 2s 3ms/step - loss: 5.2244e-05 - val_loss: 1.4288e-04\n",
            "Epoch 80/100\n",
            "580/580 [==============================] - 2s 3ms/step - loss: 5.2137e-05 - val_loss: 9.8215e-05\n",
            "Epoch 81/100\n",
            "580/580 [==============================] - 2s 3ms/step - loss: 5.2790e-05 - val_loss: 9.7537e-05\n",
            "Epoch 82/100\n",
            "580/580 [==============================] - 2s 3ms/step - loss: 5.2902e-05 - val_loss: 1.6161e-04\n",
            "Epoch 83/100\n",
            "580/580 [==============================] - 2s 3ms/step - loss: 5.2351e-05 - val_loss: 5.3518e-05\n",
            "Epoch 84/100\n",
            "580/580 [==============================] - 2s 3ms/step - loss: 5.2891e-05 - val_loss: 1.2532e-04\n",
            "Epoch 85/100\n",
            "580/580 [==============================] - 2s 3ms/step - loss: 5.2268e-05 - val_loss: 7.1407e-05\n",
            "Epoch 86/100\n",
            "580/580 [==============================] - 2s 3ms/step - loss: 5.2543e-05 - val_loss: 7.7320e-05\n",
            "Epoch 87/100\n",
            "580/580 [==============================] - 2s 3ms/step - loss: 5.1941e-05 - val_loss: 7.9969e-05\n",
            "Epoch 88/100\n",
            "580/580 [==============================] - 2s 3ms/step - loss: 5.2606e-05 - val_loss: 6.3410e-05\n",
            "Epoch 89/100\n",
            "580/580 [==============================] - 2s 3ms/step - loss: 5.3368e-05 - val_loss: 8.0076e-05\n",
            "Epoch 90/100\n",
            "580/580 [==============================] - 2s 3ms/step - loss: 5.3674e-05 - val_loss: 1.5841e-04\n",
            "Epoch 91/100\n",
            "580/580 [==============================] - 2s 3ms/step - loss: 5.2379e-05 - val_loss: 5.2405e-05\n",
            "Epoch 92/100\n",
            "580/580 [==============================] - 2s 3ms/step - loss: 5.2521e-05 - val_loss: 5.6261e-05\n",
            "Epoch 93/100\n",
            "580/580 [==============================] - 2s 3ms/step - loss: 5.1608e-05 - val_loss: 5.8321e-05\n",
            "Epoch 94/100\n",
            "580/580 [==============================] - 2s 3ms/step - loss: 5.2054e-05 - val_loss: 6.5052e-05\n",
            "Epoch 95/100\n",
            "580/580 [==============================] - 2s 3ms/step - loss: 5.2714e-05 - val_loss: 7.9304e-05\n",
            "Epoch 96/100\n",
            "580/580 [==============================] - 2s 3ms/step - loss: 5.1661e-05 - val_loss: 4.6648e-05\n",
            "Epoch 97/100\n",
            "580/580 [==============================] - 2s 3ms/step - loss: 5.2686e-05 - val_loss: 7.6246e-05\n",
            "Epoch 98/100\n",
            "580/580 [==============================] - 2s 3ms/step - loss: 5.1726e-05 - val_loss: 4.7373e-05\n",
            "Epoch 99/100\n",
            "580/580 [==============================] - 2s 3ms/step - loss: 5.2052e-05 - val_loss: 2.3720e-05\n",
            "Epoch 100/100\n",
            "580/580 [==============================] - 2s 3ms/step - loss: 5.2472e-05 - val_loss: 5.2663e-05\n"
          ]
        },
        {
          "output_type": "execute_result",
          "data": {
            "text/plain": [
              "<keras.callbacks.History at 0x7f9cc1a0cd90>"
            ]
          },
          "metadata": {},
          "execution_count": 23
        }
      ]
    },
    {
      "cell_type": "code",
      "source": [
        "model.summary()"
      ],
      "metadata": {
        "colab": {
          "base_uri": "https://localhost:8080/"
        },
        "id": "C_0RNWh_89wo",
        "outputId": "c6327855-aa4c-408f-d7f7-2e1753809557"
      },
      "execution_count": 24,
      "outputs": [
        {
          "output_type": "stream",
          "name": "stdout",
          "text": [
            "Model: \"sequential\"\n",
            "_________________________________________________________________\n",
            " Layer (type)                Output Shape              Param #   \n",
            "=================================================================\n",
            " lstm (LSTM)                 (None, 4)                 112       \n",
            "                                                                 \n",
            " dense (Dense)               (None, 1)                 5         \n",
            "                                                                 \n",
            "=================================================================\n",
            "Total params: 117\n",
            "Trainable params: 117\n",
            "Non-trainable params: 0\n",
            "_________________________________________________________________\n"
          ]
        }
      ]
    },
    {
      "cell_type": "code",
      "source": [
        "trainPredict  = model.predict(Xtrain)\n",
        "testPredict  = model.predict(Xtest)"
      ],
      "metadata": {
        "id": "tZgx4ew1-Lgp"
      },
      "execution_count": 25,
      "outputs": []
    },
    {
      "cell_type": "code",
      "source": [
        "trainPredict"
      ],
      "metadata": {
        "colab": {
          "base_uri": "https://localhost:8080/"
        },
        "id": "30cqAVMK_4nI",
        "outputId": "01d56ede-a3d1-439f-912e-03c36834cd47"
      },
      "execution_count": 26,
      "outputs": [
        {
          "output_type": "execute_result",
          "data": {
            "text/plain": [
              "array([[0.8163476 ],\n",
              "       [0.8487766 ],\n",
              "       [0.84833574],\n",
              "       ...,\n",
              "       [0.2864148 ],\n",
              "       [0.27770007],\n",
              "       [0.27797455]], dtype=float32)"
            ]
          },
          "metadata": {},
          "execution_count": 26
        }
      ]
    },
    {
      "cell_type": "code",
      "source": [
        "trainPredict = np.c_[trainPredict, np.zeros(trainPredict.shape)]\n",
        "testPredict = np.c_[testPredict,np.zeros(testPredict.shape)]"
      ],
      "metadata": {
        "id": "orTBaLv1_Z0C"
      },
      "execution_count": 27,
      "outputs": []
    },
    {
      "cell_type": "code",
      "source": [
        "#invert predictions\n",
        "\n",
        "trainPredict = scaler.inverse_transform(trainPredict)\n",
        "trainPredict = [x[0] for x in trainPredict]"
      ],
      "metadata": {
        "id": "-L_RTiP8AhX0"
      },
      "execution_count": 28,
      "outputs": []
    },
    {
      "cell_type": "code",
      "source": [
        "testPredict = scaler.inverse_transform(testPredict)\n",
        "testPredict = [x[0] for x in testPredict]"
      ],
      "metadata": {
        "id": "M5SScK9kBJq4"
      },
      "execution_count": 29,
      "outputs": []
    },
    {
      "cell_type": "code",
      "source": [
        "print(trainPredict[:5])\n",
        "print(testPredict[:5])"
      ],
      "metadata": {
        "colab": {
          "base_uri": "https://localhost:8080/"
        },
        "id": "eRIkBsyYBqrH",
        "outputId": "9b7d223e-232b-4e43-c9c6-8e2eee935057"
      },
      "execution_count": 30,
      "outputs": [
        {
          "output_type": "stream",
          "name": "stdout",
          "text": [
            "[59278.81437989789, 60928.7274672999, 60906.29873193148, 60763.70825910521, 60693.2378761291]\n",
            "[32269.998423583453, 31892.23677727347, 31188.001476394766, 31372.741353342946, 31295.352208908876]\n"
          ]
        }
      ]
    },
    {
      "cell_type": "code",
      "source": [
        "#calclate root mean square error \n",
        "\n",
        "trainScore = mean_squared_error([x[0][0] for x in Xtrain], trainPredict, squared = False)\n",
        "print(\"Train Score: %.2f RMSE\" % (trainScore))\n",
        "\n",
        "testScore = mean_squared_error([x[0][0] for x in Xtest], testPredict, squared = False)\n",
        "print(\"Test Score: %.2f RMSE\" % (testScore))\n"
      ],
      "metadata": {
        "colab": {
          "base_uri": "https://localhost:8080/"
        },
        "id": "nyl24qO1CWyP",
        "outputId": "5f19f215-cce1-4145-b913-eb9005cc2183"
      },
      "execution_count": 39,
      "outputs": [
        {
          "output_type": "stream",
          "name": "stdout",
          "text": [
            "Train Score: 46483.30 RMSE\n",
            "Test Score: 25145.67 RMSE\n"
          ]
        }
      ]
    }
  ]
}